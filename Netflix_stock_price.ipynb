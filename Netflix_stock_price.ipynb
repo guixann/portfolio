{
  "nbformat": 4,
  "nbformat_minor": 0,
  "metadata": {
    "colab": {
      "name": "Netflix stock price",
      "provenance": [],
      "authorship_tag": "ABX9TyMzs5eOGQhDDIOtPoz0acmP",
      "include_colab_link": true
    },
    "kernelspec": {
      "name": "python3",
      "display_name": "Python 3"
    },
    "language_info": {
      "name": "python"
    }
  },
  "cells": [
    {
      "cell_type": "markdown",
      "metadata": {
        "id": "view-in-github",
        "colab_type": "text"
      },
      "source": [
        "<a href=\"https://colab.research.google.com/github/guixann/portfolio/blob/main/Netflix_stock_price.ipynb\" target=\"_parent\"><img src=\"https://colab.research.google.com/assets/colab-badge.svg\" alt=\"Open In Colab\"/></a>"
      ]
    },
    {
      "cell_type": "markdown",
      "metadata": {
        "id": "DZwX_k5EWWsf"
      },
      "source": [
        "Here we analyse netflix's past stock prices!\n",
        "\n",
        "![Netflix_steps_into_the_eCommerce_world_by_launching_its_own_online_store_1_1600x.png](data:image/png;base64,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)"
      ]
    },
    {
      "cell_type": "code",
      "metadata": {
        "colab": {
          "base_uri": "https://localhost:8080/"
        },
        "id": "U3rveXi2OxiP",
        "outputId": "1dc8eac5-ae1f-40ff-de16-83f7f36f9243"
      },
      "source": [
        "import numpy as np\n",
        "import pandas as pd\n",
        "import matplotlib.pyplot as plt\n",
        "from google.colab import drive \n",
        "drive.mount('/content/drive')\n",
        "#!pwd\n",
        "%matplotlib inline"
      ],
      "execution_count": 1,
      "outputs": [
        {
          "output_type": "stream",
          "name": "stdout",
          "text": [
            "Mounted at /content/drive\n"
          ]
        }
      ]
    },
    {
      "cell_type": "code",
      "metadata": {
        "colab": {
          "base_uri": "https://localhost:8080/",
          "height": 204
        },
        "id": "D0ykP21lPQAS",
        "outputId": "f325cc4b-5d24-4fca-9820-f225d105d4db"
      },
      "source": [
        "nf = pd.read_csv('/content/drive/My Drive/NFLX.csv')\n",
        "nf.head()"
      ],
      "execution_count": 2,
      "outputs": [
        {
          "output_type": "execute_result",
          "data": {
            "text/html": [
              "<div>\n",
              "<style scoped>\n",
              "    .dataframe tbody tr th:only-of-type {\n",
              "        vertical-align: middle;\n",
              "    }\n",
              "\n",
              "    .dataframe tbody tr th {\n",
              "        vertical-align: top;\n",
              "    }\n",
              "\n",
              "    .dataframe thead th {\n",
              "        text-align: right;\n",
              "    }\n",
              "</style>\n",
              "<table border=\"1\" class=\"dataframe\">\n",
              "  <thead>\n",
              "    <tr style=\"text-align: right;\">\n",
              "      <th></th>\n",
              "      <th>Date</th>\n",
              "      <th>Open</th>\n",
              "      <th>High</th>\n",
              "      <th>Low</th>\n",
              "      <th>Close</th>\n",
              "      <th>Adj Close</th>\n",
              "      <th>Volume</th>\n",
              "    </tr>\n",
              "  </thead>\n",
              "  <tbody>\n",
              "    <tr>\n",
              "      <th>0</th>\n",
              "      <td>2002-05-23</td>\n",
              "      <td>1.156429</td>\n",
              "      <td>1.242857</td>\n",
              "      <td>1.145714</td>\n",
              "      <td>1.196429</td>\n",
              "      <td>1.196429</td>\n",
              "      <td>104790000</td>\n",
              "    </tr>\n",
              "    <tr>\n",
              "      <th>1</th>\n",
              "      <td>2002-05-24</td>\n",
              "      <td>1.214286</td>\n",
              "      <td>1.225000</td>\n",
              "      <td>1.197143</td>\n",
              "      <td>1.210000</td>\n",
              "      <td>1.210000</td>\n",
              "      <td>11104800</td>\n",
              "    </tr>\n",
              "    <tr>\n",
              "      <th>2</th>\n",
              "      <td>2002-05-28</td>\n",
              "      <td>1.213571</td>\n",
              "      <td>1.232143</td>\n",
              "      <td>1.157143</td>\n",
              "      <td>1.157143</td>\n",
              "      <td>1.157143</td>\n",
              "      <td>6609400</td>\n",
              "    </tr>\n",
              "    <tr>\n",
              "      <th>3</th>\n",
              "      <td>2002-05-29</td>\n",
              "      <td>1.164286</td>\n",
              "      <td>1.164286</td>\n",
              "      <td>1.085714</td>\n",
              "      <td>1.103571</td>\n",
              "      <td>1.103571</td>\n",
              "      <td>6757800</td>\n",
              "    </tr>\n",
              "    <tr>\n",
              "      <th>4</th>\n",
              "      <td>2002-05-30</td>\n",
              "      <td>1.107857</td>\n",
              "      <td>1.107857</td>\n",
              "      <td>1.071429</td>\n",
              "      <td>1.071429</td>\n",
              "      <td>1.071429</td>\n",
              "      <td>10154200</td>\n",
              "    </tr>\n",
              "  </tbody>\n",
              "</table>\n",
              "</div>"
            ],
            "text/plain": [
              "         Date      Open      High       Low     Close  Adj Close     Volume\n",
              "0  2002-05-23  1.156429  1.242857  1.145714  1.196429   1.196429  104790000\n",
              "1  2002-05-24  1.214286  1.225000  1.197143  1.210000   1.210000   11104800\n",
              "2  2002-05-28  1.213571  1.232143  1.157143  1.157143   1.157143    6609400\n",
              "3  2002-05-29  1.164286  1.164286  1.085714  1.103571   1.103571    6757800\n",
              "4  2002-05-30  1.107857  1.107857  1.071429  1.071429   1.071429   10154200"
            ]
          },
          "metadata": {},
          "execution_count": 2
        }
      ]
    },
    {
      "cell_type": "code",
      "metadata": {
        "colab": {
          "base_uri": "https://localhost:8080/"
        },
        "id": "DrIRicqfPsDB",
        "outputId": "ad3a95b0-c686-4f67-9403-69bbaf60784b"
      },
      "source": [
        "nf.shape"
      ],
      "execution_count": 3,
      "outputs": [
        {
          "output_type": "execute_result",
          "data": {
            "text/plain": [
              "(4874, 7)"
            ]
          },
          "metadata": {},
          "execution_count": 3
        }
      ]
    },
    {
      "cell_type": "markdown",
      "metadata": {
        "id": "kvco8EGHPySc"
      },
      "source": [
        "The netflix dataset has 4874 rows with 7 columns"
      ]
    },
    {
      "cell_type": "code",
      "metadata": {
        "colab": {
          "base_uri": "https://localhost:8080/"
        },
        "id": "9afvO6oLPxhJ",
        "outputId": "c889c7f4-0dc8-4af3-dd4d-494424dea97b"
      },
      "source": [
        "nf.info"
      ],
      "execution_count": 4,
      "outputs": [
        {
          "output_type": "execute_result",
          "data": {
            "text/plain": [
              "<bound method DataFrame.info of             Date        Open        High  ...       Close   Adj Close     Volume\n",
              "0     2002-05-23    1.156429    1.242857  ...    1.196429    1.196429  104790000\n",
              "1     2002-05-24    1.214286    1.225000  ...    1.210000    1.210000   11104800\n",
              "2     2002-05-28    1.213571    1.232143  ...    1.157143    1.157143    6609400\n",
              "3     2002-05-29    1.164286    1.164286  ...    1.103571    1.103571    6757800\n",
              "4     2002-05-30    1.107857    1.107857  ...    1.071429    1.071429   10154200\n",
              "...          ...         ...         ...  ...         ...         ...        ...\n",
              "4869  2021-09-24  592.500000  592.979980  ...  592.390015  592.390015    2124800\n",
              "4870  2021-09-27  587.950012  593.580017  ...  592.640015  592.640015    2504700\n",
              "4871  2021-09-28  589.000000  599.539978  ...  583.849976  583.849976    4431100\n",
              "4872  2021-09-29  589.010010  609.880005  ...  599.059998  599.059998    6221000\n",
              "4873  2021-09-30  608.049988  619.000000  ...  610.340027  610.340027    6612600\n",
              "\n",
              "[4874 rows x 7 columns]>"
            ]
          },
          "metadata": {},
          "execution_count": 4
        }
      ]
    },
    {
      "cell_type": "code",
      "metadata": {
        "colab": {
          "base_uri": "https://localhost:8080/",
          "height": 235
        },
        "id": "UVKxdTpLP-cr",
        "outputId": "ec29601e-743c-464a-f1ed-54dfba42dbcf"
      },
      "source": [
        "a = nf.corr()\n",
        "a"
      ],
      "execution_count": 5,
      "outputs": [
        {
          "output_type": "execute_result",
          "data": {
            "text/html": [
              "<div>\n",
              "<style scoped>\n",
              "    .dataframe tbody tr th:only-of-type {\n",
              "        vertical-align: middle;\n",
              "    }\n",
              "\n",
              "    .dataframe tbody tr th {\n",
              "        vertical-align: top;\n",
              "    }\n",
              "\n",
              "    .dataframe thead th {\n",
              "        text-align: right;\n",
              "    }\n",
              "</style>\n",
              "<table border=\"1\" class=\"dataframe\">\n",
              "  <thead>\n",
              "    <tr style=\"text-align: right;\">\n",
              "      <th></th>\n",
              "      <th>Open</th>\n",
              "      <th>High</th>\n",
              "      <th>Low</th>\n",
              "      <th>Close</th>\n",
              "      <th>Adj Close</th>\n",
              "      <th>Volume</th>\n",
              "    </tr>\n",
              "  </thead>\n",
              "  <tbody>\n",
              "    <tr>\n",
              "      <th>Open</th>\n",
              "      <td>1.000000</td>\n",
              "      <td>0.999864</td>\n",
              "      <td>0.999858</td>\n",
              "      <td>0.999708</td>\n",
              "      <td>0.999708</td>\n",
              "      <td>-0.249313</td>\n",
              "    </tr>\n",
              "    <tr>\n",
              "      <th>High</th>\n",
              "      <td>0.999864</td>\n",
              "      <td>1.000000</td>\n",
              "      <td>0.999819</td>\n",
              "      <td>0.999868</td>\n",
              "      <td>0.999868</td>\n",
              "      <td>-0.247960</td>\n",
              "    </tr>\n",
              "    <tr>\n",
              "      <th>Low</th>\n",
              "      <td>0.999858</td>\n",
              "      <td>0.999819</td>\n",
              "      <td>1.000000</td>\n",
              "      <td>0.999862</td>\n",
              "      <td>0.999862</td>\n",
              "      <td>-0.250610</td>\n",
              "    </tr>\n",
              "    <tr>\n",
              "      <th>Close</th>\n",
              "      <td>0.999708</td>\n",
              "      <td>0.999868</td>\n",
              "      <td>0.999862</td>\n",
              "      <td>1.000000</td>\n",
              "      <td>1.000000</td>\n",
              "      <td>-0.249177</td>\n",
              "    </tr>\n",
              "    <tr>\n",
              "      <th>Adj Close</th>\n",
              "      <td>0.999708</td>\n",
              "      <td>0.999868</td>\n",
              "      <td>0.999862</td>\n",
              "      <td>1.000000</td>\n",
              "      <td>1.000000</td>\n",
              "      <td>-0.249177</td>\n",
              "    </tr>\n",
              "    <tr>\n",
              "      <th>Volume</th>\n",
              "      <td>-0.249313</td>\n",
              "      <td>-0.247960</td>\n",
              "      <td>-0.250610</td>\n",
              "      <td>-0.249177</td>\n",
              "      <td>-0.249177</td>\n",
              "      <td>1.000000</td>\n",
              "    </tr>\n",
              "  </tbody>\n",
              "</table>\n",
              "</div>"
            ],
            "text/plain": [
              "               Open      High       Low     Close  Adj Close    Volume\n",
              "Open       1.000000  0.999864  0.999858  0.999708   0.999708 -0.249313\n",
              "High       0.999864  1.000000  0.999819  0.999868   0.999868 -0.247960\n",
              "Low        0.999858  0.999819  1.000000  0.999862   0.999862 -0.250610\n",
              "Close      0.999708  0.999868  0.999862  1.000000   1.000000 -0.249177\n",
              "Adj Close  0.999708  0.999868  0.999862  1.000000   1.000000 -0.249177\n",
              "Volume    -0.249313 -0.247960 -0.250610 -0.249177  -0.249177  1.000000"
            ]
          },
          "metadata": {},
          "execution_count": 5
        }
      ]
    },
    {
      "cell_type": "code",
      "metadata": {
        "colab": {
          "base_uri": "https://localhost:8080/",
          "height": 534
        },
        "id": "w9yk2pDfQLL8",
        "outputId": "47975a74-5a90-494e-d5de-f7080218832e"
      },
      "source": [
        "fig = plt.figure(figsize=(8,8))\n",
        "plt.matshow(a, cmap='RdBu', fignum=fig.number)\n",
        "plt.xticks(range(len(a.columns)), a.columns, rotation='vertical');\n",
        "plt.yticks(range(len(a.columns)), a.columns);"
      ],
      "execution_count": 6,
      "outputs": [
        {
          "output_type": "display_data",
          "data": {
            "image/png": "[encoded data removed]",
            "text/plain": [
              "<Figure size 576x576 with 1 Axes>"
            ]
          },
          "metadata": {
            "needs_background": "light"
          }
        }
      ]
    },
    {
      "cell_type": "code",
      "metadata": {
        "colab": {
          "base_uri": "https://localhost:8080/",
          "height": 297
        },
        "id": "I09DobNiQV4w",
        "outputId": "938ef16c-9156-41f7-f117-9ca68bd937ec"
      },
      "source": [
        "nf.describe()"
      ],
      "execution_count": 7,
      "outputs": [
        {
          "output_type": "execute_result",
          "data": {
            "text/html": [
              "<div>\n",
              "<style scoped>\n",
              "    .dataframe tbody tr th:only-of-type {\n",
              "        vertical-align: middle;\n",
              "    }\n",
              "\n",
              "    .dataframe tbody tr th {\n",
              "        vertical-align: top;\n",
              "    }\n",
              "\n",
              "    .dataframe thead th {\n",
              "        text-align: right;\n",
              "    }\n",
              "</style>\n",
              "<table border=\"1\" class=\"dataframe\">\n",
              "  <thead>\n",
              "    <tr style=\"text-align: right;\">\n",
              "      <th></th>\n",
              "      <th>Open</th>\n",
              "      <th>High</th>\n",
              "      <th>Low</th>\n",
              "      <th>Close</th>\n",
              "      <th>Adj Close</th>\n",
              "      <th>Volume</th>\n",
              "    </tr>\n",
              "  </thead>\n",
              "  <tbody>\n",
              "    <tr>\n",
              "      <th>count</th>\n",
              "      <td>4874.000000</td>\n",
              "      <td>4874.000000</td>\n",
              "      <td>4874.000000</td>\n",
              "      <td>4874.000000</td>\n",
              "      <td>4874.000000</td>\n",
              "      <td>4.874000e+03</td>\n",
              "    </tr>\n",
              "    <tr>\n",
              "      <th>mean</th>\n",
              "      <td>104.644811</td>\n",
              "      <td>106.243736</td>\n",
              "      <td>103.006660</td>\n",
              "      <td>104.686524</td>\n",
              "      <td>104.686524</td>\n",
              "      <td>1.681687e+07</td>\n",
              "    </tr>\n",
              "    <tr>\n",
              "      <th>std</th>\n",
              "      <td>155.886656</td>\n",
              "      <td>158.173217</td>\n",
              "      <td>153.546958</td>\n",
              "      <td>155.940368</td>\n",
              "      <td>155.940368</td>\n",
              "      <td>1.937625e+07</td>\n",
              "    </tr>\n",
              "    <tr>\n",
              "      <th>min</th>\n",
              "      <td>0.377857</td>\n",
              "      <td>0.410714</td>\n",
              "      <td>0.346429</td>\n",
              "      <td>0.372857</td>\n",
              "      <td>0.372857</td>\n",
              "      <td>2.856000e+05</td>\n",
              "    </tr>\n",
              "    <tr>\n",
              "      <th>25%</th>\n",
              "      <td>3.901429</td>\n",
              "      <td>3.977143</td>\n",
              "      <td>3.835357</td>\n",
              "      <td>3.905714</td>\n",
              "      <td>3.905714</td>\n",
              "      <td>6.301225e+06</td>\n",
              "    </tr>\n",
              "    <tr>\n",
              "      <th>50%</th>\n",
              "      <td>21.386429</td>\n",
              "      <td>21.816429</td>\n",
              "      <td>20.935714</td>\n",
              "      <td>21.233572</td>\n",
              "      <td>21.233572</td>\n",
              "      <td>1.084630e+07</td>\n",
              "    </tr>\n",
              "    <tr>\n",
              "      <th>75%</th>\n",
              "      <td>125.445000</td>\n",
              "      <td>126.592498</td>\n",
              "      <td>122.987499</td>\n",
              "      <td>125.097502</td>\n",
              "      <td>125.097502</td>\n",
              "      <td>2.016192e+07</td>\n",
              "    </tr>\n",
              "    <tr>\n",
              "      <th>max</th>\n",
              "      <td>608.049988</td>\n",
              "      <td>619.000000</td>\n",
              "      <td>608.049988</td>\n",
              "      <td>610.340027</td>\n",
              "      <td>610.340027</td>\n",
              "      <td>3.234140e+08</td>\n",
              "    </tr>\n",
              "  </tbody>\n",
              "</table>\n",
              "</div>"
            ],
            "text/plain": [
              "              Open         High  ...    Adj Close        Volume\n",
              "count  4874.000000  4874.000000  ...  4874.000000  4.874000e+03\n",
              "mean    104.644811   106.243736  ...   104.686524  1.681687e+07\n",
              "std     155.886656   158.173217  ...   155.940368  1.937625e+07\n",
              "min       0.377857     0.410714  ...     0.372857  2.856000e+05\n",
              "25%       3.901429     3.977143  ...     3.905714  6.301225e+06\n",
              "50%      21.386429    21.816429  ...    21.233572  1.084630e+07\n",
              "75%     125.445000   126.592498  ...   125.097502  2.016192e+07\n",
              "max     608.049988   619.000000  ...   610.340027  3.234140e+08\n",
              "\n",
              "[8 rows x 6 columns]"
            ]
          },
          "metadata": {},
          "execution_count": 7
        }
      ]
    },
    {
      "cell_type": "code",
      "metadata": {
        "colab": {
          "base_uri": "https://localhost:8080/"
        },
        "id": "el2ZxF_tQj2w",
        "outputId": "1b4064ac-7847-4e68-d089-fd59c5f44345"
      },
      "source": [
        "nf['Date']"
      ],
      "execution_count": 11,
      "outputs": [
        {
          "output_type": "execute_result",
          "data": {
            "text/plain": [
              "0       2002-05-23\n",
              "1       2002-05-24\n",
              "2       2002-05-28\n",
              "3       2002-05-29\n",
              "4       2002-05-30\n",
              "           ...    \n",
              "4869    2021-09-24\n",
              "4870    2021-09-27\n",
              "4871    2021-09-28\n",
              "4872    2021-09-29\n",
              "4873    2021-09-30\n",
              "Name: Date, Length: 4874, dtype: object"
            ]
          },
          "metadata": {},
          "execution_count": 11
        }
      ]
    },
    {
      "cell_type": "code",
      "metadata": {
        "colab": {
          "base_uri": "https://localhost:8080/"
        },
        "id": "BayRdXTtQ7h8",
        "outputId": "02b21bfc-740b-4ab6-eee0-1f298adebbe6"
      },
      "source": [
        "nf['Date_1']= pd.to_datetime(nf['Date'])\n",
        "nf['Date_1']"
      ],
      "execution_count": 12,
      "outputs": [
        {
          "output_type": "execute_result",
          "data": {
            "text/plain": [
              "0      2002-05-23\n",
              "1      2002-05-24\n",
              "2      2002-05-28\n",
              "3      2002-05-29\n",
              "4      2002-05-30\n",
              "          ...    \n",
              "4869   2021-09-24\n",
              "4870   2021-09-27\n",
              "4871   2021-09-28\n",
              "4872   2021-09-29\n",
              "4873   2021-09-30\n",
              "Name: Date_1, Length: 4874, dtype: datetime64[ns]"
            ]
          },
          "metadata": {},
          "execution_count": 12
        }
      ]
    },
    {
      "cell_type": "code",
      "metadata": {
        "colab": {
          "base_uri": "https://localhost:8080/"
        },
        "id": "ecu7deDiRTDg",
        "outputId": "65e9a235-0a44-4d77-9ad3-e43fccef3ce9"
      },
      "source": [
        "nf['Year'] = pd.DatetimeIndex(nf['Date_1']).year\n",
        "nf['Month'] = pd.DatetimeIndex(nf['Date_1']).month\n",
        "nf['Month'].value_counts()"
      ],
      "execution_count": 21,
      "outputs": [
        {
          "output_type": "execute_result",
          "data": {
            "text/plain": [
              "8     442\n",
              "6     427\n",
              "7     424\n",
              "10    420\n",
              "3     416\n",
              "9     409\n",
              "5     406\n",
              "12    401\n",
              "4     394\n",
              "11    387\n",
              "1     384\n",
              "2     364\n",
              "Name: Month, dtype: int64"
            ]
          },
          "metadata": {},
          "execution_count": 21
        }
      ]
    },
    {
      "cell_type": "code",
      "metadata": {
        "colab": {
          "base_uri": "https://localhost:8080/"
        },
        "id": "JcvI0KCFRu80",
        "outputId": "8b9f2978-01de-44cd-e72e-138db28f8c13"
      },
      "source": [
        "nf['Year'].value_counts()"
      ],
      "execution_count": 22,
      "outputs": [
        {
          "output_type": "execute_result",
          "data": {
            "text/plain": [
              "2008    253\n",
              "2020    253\n",
              "2019    252\n",
              "2015    252\n",
              "2016    252\n",
              "2005    252\n",
              "2009    252\n",
              "2013    252\n",
              "2004    252\n",
              "2010    252\n",
              "2014    252\n",
              "2003    252\n",
              "2011    252\n",
              "2006    251\n",
              "2017    251\n",
              "2018    251\n",
              "2007    251\n",
              "2012    250\n",
              "2021    188\n",
              "2002    154\n",
              "Name: Year, dtype: int64"
            ]
          },
          "metadata": {},
          "execution_count": 22
        }
      ]
    },
    {
      "cell_type": "code",
      "metadata": {
        "colab": {
          "base_uri": "https://localhost:8080/"
        },
        "id": "4Ke_a_C_Sb_D",
        "outputId": "bae880f5-b303-475c-e9aa-4df146ea5d2f"
      },
      "source": [
        "nf['Open'].max()"
      ],
      "execution_count": 23,
      "outputs": [
        {
          "output_type": "execute_result",
          "data": {
            "text/plain": [
              "608.049988"
            ]
          },
          "metadata": {},
          "execution_count": 23
        }
      ]
    },
    {
      "cell_type": "code",
      "metadata": {
        "colab": {
          "base_uri": "https://localhost:8080/"
        },
        "id": "SmY3ec-ySmW0",
        "outputId": "b1928cb5-2e66-47d3-995b-226c9b061299"
      },
      "source": [
        "nf['Open'].min()"
      ],
      "execution_count": 24,
      "outputs": [
        {
          "output_type": "execute_result",
          "data": {
            "text/plain": [
              "0.377857"
            ]
          },
          "metadata": {},
          "execution_count": 24
        }
      ]
    },
    {
      "cell_type": "code",
      "metadata": {
        "colab": {
          "base_uri": "https://localhost:8080/"
        },
        "id": "TbGDWPCYSpCk",
        "outputId": "9e0a5545-b764-410c-f609-5a34bf36d5e1"
      },
      "source": [
        "nf['Open'].describe()"
      ],
      "execution_count": 25,
      "outputs": [
        {
          "output_type": "execute_result",
          "data": {
            "text/plain": [
              "count    4874.000000\n",
              "mean      104.644811\n",
              "std       155.886656\n",
              "min         0.377857\n",
              "25%         3.901429\n",
              "50%        21.386429\n",
              "75%       125.445000\n",
              "max       608.049988\n",
              "Name: Open, dtype: float64"
            ]
          },
          "metadata": {},
          "execution_count": 25
        }
      ]
    },
    {
      "cell_type": "code",
      "metadata": {
        "colab": {
          "base_uri": "https://localhost:8080/",
          "height": 390
        },
        "id": "av95e3D2TAOO",
        "outputId": "57b8411d-8856-4531-aef0-98aae8369e41"
      },
      "source": [
        "nf['Open'].plot(kind='density', figsize=(14,6)) # kde"
      ],
      "execution_count": 27,
      "outputs": [
        {
          "output_type": "execute_result",
          "data": {
            "text/plain": [
              "<matplotlib.axes._subplots.AxesSubplot at 0x7f615b15a250>"
            ]
          },
          "metadata": {},
          "execution_count": 27
        },
        {
          "output_type": "display_data",
          "data": {
            "image/png": "[encoded data removed]",
            "text/plain": [
              "<Figure size 1008x432 with 1 Axes>"
            ]
          },
          "metadata": {
            "needs_background": "light"
          }
        }
      ]
    },
    {
      "cell_type": "code",
      "metadata": {
        "colab": {
          "base_uri": "https://localhost:8080/"
        },
        "id": "lM1mGtjUTQAP",
        "outputId": "66ff7e59-5bb2-4b69-fa60-8dac5cfc0a0f"
      },
      "source": [
        "nf['Max_difference']=nf['High']-nf['Low']\n",
        "nf['Max_difference'].head()"
      ],
      "execution_count": 28,
      "outputs": [
        {
          "output_type": "execute_result",
          "data": {
            "text/plain": [
              "0    0.097143\n",
              "1    0.027857\n",
              "2    0.075000\n",
              "3    0.078572\n",
              "4    0.036428\n",
              "Name: Max_difference, dtype: float64"
            ]
          },
          "metadata": {},
          "execution_count": 28
        }
      ]
    },
    {
      "cell_type": "code",
      "metadata": {
        "colab": {
          "base_uri": "https://localhost:8080/",
          "height": 391
        },
        "id": "RX-j-O4aTg-X",
        "outputId": "0f821bd7-f9af-4f0b-b160-09fc56e8aef8"
      },
      "source": [
        "b= nf['Max_difference'].plot(kind='density',figsize=(14,6))\n",
        "b.axvline(nf['Max_difference'].median(),color='red')"
      ],
      "execution_count": 33,
      "outputs": [
        {
          "output_type": "execute_result",
          "data": {
            "text/plain": [
              "<matplotlib.lines.Line2D at 0x7f614196aed0>"
            ]
          },
          "metadata": {},
          "execution_count": 33
        },
        {
          "output_type": "display_data",
          "data": {
            "image/png": "[encoded data removed]",
            "text/plain": [
              "<Figure size 1008x432 with 1 Axes>"
            ]
          },
          "metadata": {
            "needs_background": "light"
          }
        }
      ]
    },
    {
      "cell_type": "code",
      "metadata": {
        "colab": {
          "base_uri": "https://localhost:8080/"
        },
        "id": "qTjUoSmwTos9",
        "outputId": "fc7770ea-55a8-4774-9302-b56896fbcfc1"
      },
      "source": [
        "nf['Max_difference'].mean()"
      ],
      "execution_count": 34,
      "outputs": [
        {
          "output_type": "execute_result",
          "data": {
            "text/plain": [
              "3.2370758902338923"
            ]
          },
          "metadata": {},
          "execution_count": 34
        }
      ]
    },
    {
      "cell_type": "markdown",
      "metadata": {
        "id": "WxKcLqnJUN3W"
      },
      "source": [
        "$3 of return per share on average if transcations are timed exactly right.\n",
        "Not likely sadly\n"
      ]
    },
    {
      "cell_type": "code",
      "metadata": {
        "colab": {
          "base_uri": "https://localhost:8080/"
        },
        "id": "O6_KpW1jU7pq",
        "outputId": "18a610dc-b019-480e-d1f5-c12daa13ae66"
      },
      "source": [
        "nf['Volume'].max()"
      ],
      "execution_count": 35,
      "outputs": [
        {
          "output_type": "execute_result",
          "data": {
            "text/plain": [
              "323414000"
            ]
          },
          "metadata": {},
          "execution_count": 35
        }
      ]
    },
    {
      "cell_type": "code",
      "metadata": {
        "colab": {
          "base_uri": "https://localhost:8080/",
          "height": 134
        },
        "id": "Dm-3b04TVQhe",
        "outputId": "84e123b9-a5a4-4a89-a89c-f15f780a2d98"
      },
      "source": [
        "nf.loc[nf['Volume'] == 323414000]"
      ],
      "execution_count": 36,
      "outputs": [
        {
          "output_type": "execute_result",
          "data": {
            "text/html": [
              "<div>\n",
              "<style scoped>\n",
              "    .dataframe tbody tr th:only-of-type {\n",
              "        vertical-align: middle;\n",
              "    }\n",
              "\n",
              "    .dataframe tbody tr th {\n",
              "        vertical-align: top;\n",
              "    }\n",
              "\n",
              "    .dataframe thead th {\n",
              "        text-align: right;\n",
              "    }\n",
              "</style>\n",
              "<table border=\"1\" class=\"dataframe\">\n",
              "  <thead>\n",
              "    <tr style=\"text-align: right;\">\n",
              "      <th></th>\n",
              "      <th>Date</th>\n",
              "      <th>Open</th>\n",
              "      <th>High</th>\n",
              "      <th>Low</th>\n",
              "      <th>Close</th>\n",
              "      <th>Adj Close</th>\n",
              "      <th>Volume</th>\n",
              "      <th>Date_1</th>\n",
              "      <th>year</th>\n",
              "      <th>month</th>\n",
              "      <th>Year</th>\n",
              "      <th>Month</th>\n",
              "      <th>Max_difference</th>\n",
              "    </tr>\n",
              "  </thead>\n",
              "  <tbody>\n",
              "    <tr>\n",
              "      <th>604</th>\n",
              "      <td>2004-10-15</td>\n",
              "      <td>1.432857</td>\n",
              "      <td>1.641429</td>\n",
              "      <td>1.422857</td>\n",
              "      <td>1.471429</td>\n",
              "      <td>1.471429</td>\n",
              "      <td>323414000</td>\n",
              "      <td>2004-10-15</td>\n",
              "      <td>2004</td>\n",
              "      <td>10</td>\n",
              "      <td>2004</td>\n",
              "      <td>10</td>\n",
              "      <td>0.218572</td>\n",
              "    </tr>\n",
              "  </tbody>\n",
              "</table>\n",
              "</div>"
            ],
            "text/plain": [
              "           Date      Open      High  ...  Year  Month  Max_difference\n",
              "604  2004-10-15  1.432857  1.641429  ...  2004     10        0.218572\n",
              "\n",
              "[1 rows x 13 columns]"
            ]
          },
          "metadata": {},
          "execution_count": 36
        }
      ]
    },
    {
      "cell_type": "markdown",
      "metadata": {
        "id": "gfApSSNaViMP"
      },
      "source": [
        "Here is when most volume of shares were had? More context will give greater insight"
      ]
    },
    {
      "cell_type": "code",
      "metadata": {
        "colab": {
          "base_uri": "https://localhost:8080/"
        },
        "id": "6uwwBnQFWzRv",
        "outputId": "19e6ea0e-5214-4174-d602-42222cbc85d3"
      },
      "source": [
        "nf.loc[(nf['Year'] == 2010) & (nf['Month'] ==4)].shape[0]"
      ],
      "execution_count": 42,
      "outputs": [
        {
          "output_type": "execute_result",
          "data": {
            "text/plain": [
              "21"
            ]
          },
          "metadata": {},
          "execution_count": 42
        }
      ]
    }
  ]
}